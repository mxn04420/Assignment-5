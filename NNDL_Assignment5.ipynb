{
  "nbformat": 4,
  "nbformat_minor": 0,
  "metadata": {
    "colab": {
      "provenance": [],
      "authorship_tag": "ABX9TyN3kq0d/BbR0MgI/qLqG4Ah",
      "include_colab_link": true
    },
    "kernelspec": {
      "name": "python3",
      "display_name": "Python 3"
    },
    "language_info": {
      "name": "python"
    }
  },
  "cells": [
    {
      "cell_type": "markdown",
      "metadata": {
        "id": "view-in-github",
        "colab_type": "text"
      },
      "source": [
        "<a href=\"https://colab.research.google.com/github/mxn04420/Assignment-5/blob/main/NNDL_Assignment5.ipynb\" target=\"_parent\"><img src=\"https://colab.research.google.com/assets/colab-badge.svg\" alt=\"Open In Colab\"/></a>"
      ]
    },
    {
      "cell_type": "code",
      "execution_count": null,
      "metadata": {
        "colab": {
          "base_uri": "https://localhost:8080/"
        },
        "id": "6S6MNS56JULe",
        "outputId": "5524ffb8-ffdf-4984-f764-ed65004fbc3f"
      },
      "outputs": [
        {
          "output_type": "stream",
          "name": "stdout",
          "text": [
            "Mounted at /content/gdrive\n"
          ]
        },
        {
          "output_type": "stream",
          "name": "stderr",
          "text": [
            "<ipython-input-2-ba84f9750b30>:24: SettingWithCopyWarning: \n",
            "A value is trying to be set on a copy of a slice from a DataFrame.\n",
            "Try using .loc[row_indexer,col_indexer] = value instead\n",
            "\n",
            "See the caveats in the documentation: https://pandas.pydata.org/pandas-docs/stable/user_guide/indexing.html#returning-a-view-versus-a-copy\n",
            "  data['text'] = data['text'].apply(lambda x: x.lower())\n",
            "<ipython-input-2-ba84f9750b30>:25: SettingWithCopyWarning: \n",
            "A value is trying to be set on a copy of a slice from a DataFrame.\n",
            "Try using .loc[row_indexer,col_indexer] = value instead\n",
            "\n",
            "See the caveats in the documentation: https://pandas.pydata.org/pandas-docs/stable/user_guide/indexing.html#returning-a-view-versus-a-copy\n",
            "  data['text'] = data['text'].apply((lambda x: re.sub('[^a-zA-z0-9\\s]', '', x)))\n"
          ]
        },
        {
          "output_type": "stream",
          "name": "stdout",
          "text": [
            "291/291 - 64s - loss: 0.8320 - accuracy: 0.6431 - 64s/epoch - 221ms/step\n",
            "144/144 - 3s - loss: 0.7470 - accuracy: 0.6732 - 3s/epoch - 22ms/step\n",
            "0.746999979019165\n",
            "0.6732197403907776\n"
          ]
        }
      ],
      "source": [
        "#importing necessary packages\n",
        "import pandas as pd\n",
        "import numpy as np\n",
        "import matplotlib.pyplot as plt\n",
        "import re\n",
        "from sklearn.model_selection import train_test_split\n",
        "from sklearn.preprocessing import LabelEncoder\n",
        "from keras.preprocessing.text import Tokenizer\n",
        "from tensorflow.keras.preprocessing.sequence import pad_sequences\n",
        "from keras.models import Sequential\n",
        "from keras.layers import Dense, Embedding, LSTM, SpatialDropout1D\n",
        "from keras.utils.np_utils import to_categorical\n",
        "from google.colab import drive\n",
        "\n",
        "drive.mount('/content/gdrive')\n",
        "dataset = pd.read_csv('/content/gdrive/My Drive/Sentiment.csv')\n",
        "\n",
        "mask = dataset.columns.isin(['text', 'sentiment'])\n",
        "data = dataset.loc[:, mask]\n",
        "\n",
        "data['text'] = data['text'].apply(lambda x: x.lower())\n",
        "data['text'] = data['text'].apply((lambda x: re.sub('[^a-zA-z0-9\\s]', '', x)))\n",
        "\n",
        "for idx, row in data.iterrows():\n",
        "    row[0] = row[0].replace('rt', ' ')\n",
        "\n",
        "max_fatures = 2000\n",
        "tokenizer = Tokenizer(num_words=max_fatures, split=' ')\n",
        "tokenizer.fit_on_texts(data['text'].values)\n",
        "X = tokenizer.texts_to_sequences(data['text'].values)\n",
        "X = pad_sequences(X)\n",
        "\n",
        "embed_dim = 128\n",
        "lstm_out = 196\n",
        "\n",
        "def createmodel():\n",
        "    model = Sequential()\n",
        "    model.add(Embedding(max_fatures, embed_dim,input_length = X.shape[1]))\n",
        "    model.add(LSTM(lstm_out, dropout=0.2, recurrent_dropout=0.2))\n",
        "    model.add(Dense(3,activation='softmax'))\n",
        "    model.compile(loss = 'categorical_crossentropy', optimizer='adam',metrics = ['accuracy'])\n",
        "    return model\n",
        "\n",
        "labelencoder = LabelEncoder()\n",
        "integer_encoded = labelencoder.fit_transform(data['sentiment'])\n",
        "y = to_categorical(integer_encoded)\n",
        "X_train, X_test, Y_train, Y_test = train_test_split(X,y, test_size = 0.33, random_state = 42)\n",
        "\n",
        "batch_size = 32\n",
        "model = createmodel()\n",
        "model.fit(X_train, Y_train, epochs = 1, batch_size=batch_size, verbose = 2)\n",
        "score,acc = model.evaluate(X_test,Y_test,verbose=2,batch_size=batch_size)\n",
        "\n",
        "print(score)\n",
        "print(acc)"
      ]
    },
    {
      "cell_type": "code",
      "source": [
        "from keras.models import load_model\n",
        "\n",
        "#saving and loading the model\n",
        "model.save('sentimentAnalysis.h5')\n",
        "model= load_model('sentimentAnalysis.h5')\n",
        "\n",
        "#predicting on the text data\n",
        "sentence = ['A lot of good things are happening. We are respected again throughout the world, and that is a great thing.@realDonaldTrump']\n",
        "sentence = tokenizer.texts_to_sequences(sentence)\n",
        "sentence = pad_sequences(sentence, maxlen=28, dtype='int32', value=0)\n",
        "sentiment_probs = model.predict(sentence, batch_size=1, verbose=2)[0]\n",
        "sentiment = np.argmax(sentiment_probs)\n",
        "\n",
        "#checking the sentiment of the sample data\n",
        "print(sentiment_probs)\n",
        "if sentiment == 0:\n",
        "    print(\"Neutral\")\n",
        "elif sentiment < 0:\n",
        "    print(\"Negative\")\n",
        "elif sentiment > 0:\n",
        "    print(\"Positive\")\n",
        "else:\n",
        "    print(\"Cannot be determined\")"
      ],
      "metadata": {
        "colab": {
          "base_uri": "https://localhost:8080/"
        },
        "id": "SysoHwjJRENj",
        "outputId": "615229e8-a3a9-474f-858b-8af906218a6a"
      },
      "execution_count": null,
      "outputs": [
        {
          "output_type": "stream",
          "name": "stdout",
          "text": [
            "1/1 - 1s - 541ms/epoch - 541ms/step\n",
            "[0.567826   0.14409716 0.28807685]\n",
            "Neutral\n"
          ]
        }
      ]
    },
    {
      "cell_type": "code",
      "source": [
        "from keras.wrappers.scikit_learn import KerasClassifier\n",
        "from sklearn.model_selection import GridSearchCV\n",
        "\n",
        "#GridSearch model is used\n",
        "model = KerasClassifier(build_fn=createmodel,verbose=2)\n",
        "batch_size= [10, 20, 40]\n",
        "epochs = [1, 2]\n",
        "param_grid= {'batch_size':batch_size, 'epochs':epochs}\n",
        "grid  = GridSearchCV(estimator=model, param_grid=param_grid)\n",
        "grid_result= grid.fit(X_train,Y_train)\n",
        "\n",
        "print(\"Best: %f using %s\" % (grid_result.best_score_, grid_result.best_params_))"
      ],
      "metadata": {
        "colab": {
          "base_uri": "https://localhost:8080/"
        },
        "id": "_cr3fgtgREKI",
        "outputId": "f3ded6be-a142-410d-8c48-c75180fc22fe"
      },
      "execution_count": 6,
      "outputs": [
        {
          "metadata": {
            "tags": null
          },
          "name": "stderr",
          "output_type": "stream",
          "text": [
            "<ipython-input-6-6c99b49150f4>:4: DeprecationWarning: KerasClassifier is deprecated, use Sci-Keras (https://github.com/adriangb/scikeras) instead. See https://www.adriangb.com/scikeras/stable/migration.html for help migrating.\n",
            "  model = KerasClassifier(build_fn=createmodel,verbose=2) #initiating model to test performance by applying multiple hyper parameters\n"
          ]
        },
        {
          "output_type": "stream",
          "name": "stdout",
          "text": [
            "744/744 - 125s - loss: 0.8302 - accuracy: 0.6402 - 125s/epoch - 169ms/step\n",
            "186/186 - 3s - loss: 0.7499 - accuracy: 0.6756 - 3s/epoch - 15ms/step\n",
            "744/744 - 115s - loss: 0.8252 - accuracy: 0.6480 - 115s/epoch - 154ms/step\n",
            "186/186 - 4s - loss: 0.7724 - accuracy: 0.6606 - 4s/epoch - 20ms/step\n",
            "744/744 - 115s - loss: 0.8273 - accuracy: 0.6460 - 115s/epoch - 155ms/step\n",
            "186/186 - 3s - loss: 0.7921 - accuracy: 0.6573 - 3s/epoch - 15ms/step\n",
            "744/744 - 112s - loss: 0.8251 - accuracy: 0.6463 - 112s/epoch - 151ms/step\n",
            "186/186 - 3s - loss: 0.7647 - accuracy: 0.6722 - 3s/epoch - 15ms/step\n",
            "744/744 - 112s - loss: 0.8155 - accuracy: 0.6469 - 112s/epoch - 151ms/step\n",
            "186/186 - 5s - loss: 0.7830 - accuracy: 0.6679 - 5s/epoch - 24ms/step\n",
            "Epoch 1/2\n",
            "744/744 - 109s - loss: 0.8234 - accuracy: 0.6517 - 109s/epoch - 147ms/step\n",
            "Epoch 2/2\n",
            "744/744 - 108s - loss: 0.6871 - accuracy: 0.7058 - 108s/epoch - 145ms/step\n",
            "186/186 - 3s - loss: 0.7367 - accuracy: 0.6848 - 3s/epoch - 16ms/step\n",
            "Epoch 1/2\n",
            "744/744 - 108s - loss: 0.8216 - accuracy: 0.6469 - 108s/epoch - 145ms/step\n",
            "Epoch 2/2\n",
            "744/744 - 123s - loss: 0.6801 - accuracy: 0.7131 - 123s/epoch - 165ms/step\n",
            "186/186 - 4s - loss: 0.7448 - accuracy: 0.6767 - 4s/epoch - 24ms/step\n",
            "Epoch 1/2\n",
            "744/744 - 125s - loss: 0.8269 - accuracy: 0.6419 - 125s/epoch - 168ms/step\n",
            "Epoch 2/2\n",
            "744/744 - 121s - loss: 0.6832 - accuracy: 0.7119 - 121s/epoch - 163ms/step\n",
            "186/186 - 3s - loss: 0.7515 - accuracy: 0.6837 - 3s/epoch - 15ms/step\n",
            "Epoch 1/2\n",
            "744/744 - 113s - loss: 0.8282 - accuracy: 0.6467 - 113s/epoch - 152ms/step\n",
            "Epoch 2/2\n",
            "744/744 - 107s - loss: 0.6811 - accuracy: 0.7091 - 107s/epoch - 144ms/step\n",
            "186/186 - 5s - loss: 0.7449 - accuracy: 0.6776 - 5s/epoch - 25ms/step\n",
            "Epoch 1/2\n",
            "744/744 - 109s - loss: 0.8236 - accuracy: 0.6496 - 109s/epoch - 146ms/step\n",
            "Epoch 2/2\n",
            "744/744 - 107s - loss: 0.6736 - accuracy: 0.7167 - 107s/epoch - 144ms/step\n",
            "186/186 - 4s - loss: 0.7756 - accuracy: 0.6658 - 4s/epoch - 21ms/step\n",
            "372/372 - 62s - loss: 0.8362 - accuracy: 0.6425 - 62s/epoch - 167ms/step\n",
            "93/93 - 2s - loss: 0.7406 - accuracy: 0.6799 - 2s/epoch - 20ms/step\n",
            "372/372 - 63s - loss: 0.8287 - accuracy: 0.6422 - 63s/epoch - 170ms/step\n",
            "93/93 - 2s - loss: 0.7652 - accuracy: 0.6719 - 2s/epoch - 23ms/step\n",
            "372/372 - 63s - loss: 0.8371 - accuracy: 0.6391 - 63s/epoch - 168ms/step\n",
            "93/93 - 2s - loss: 0.7580 - accuracy: 0.6826 - 2s/epoch - 20ms/step\n",
            "372/372 - 65s - loss: 0.8297 - accuracy: 0.6456 - 65s/epoch - 175ms/step\n",
            "93/93 - 2s - loss: 0.7746 - accuracy: 0.6744 - 2s/epoch - 20ms/step\n",
            "372/372 - 63s - loss: 0.8217 - accuracy: 0.6382 - 63s/epoch - 170ms/step\n",
            "93/93 - 3s - loss: 0.7932 - accuracy: 0.6620 - 3s/epoch - 29ms/step\n",
            "Epoch 1/2\n",
            "372/372 - 62s - loss: 0.8338 - accuracy: 0.6478 - 62s/epoch - 167ms/step\n",
            "Epoch 2/2\n",
            "372/372 - 59s - loss: 0.6848 - accuracy: 0.7063 - 59s/epoch - 158ms/step\n",
            "93/93 - 2s - loss: 0.7344 - accuracy: 0.6751 - 2s/epoch - 21ms/step\n",
            "Epoch 1/2\n",
            "372/372 - 63s - loss: 0.8244 - accuracy: 0.6465 - 63s/epoch - 169ms/step\n",
            "Epoch 2/2\n",
            "372/372 - 60s - loss: 0.6847 - accuracy: 0.7077 - 60s/epoch - 160ms/step\n",
            "93/93 - 4s - loss: 0.7735 - accuracy: 0.6789 - 4s/epoch - 47ms/step\n",
            "Epoch 1/2\n",
            "372/372 - 59s - loss: 0.8400 - accuracy: 0.6422 - 59s/epoch - 160ms/step\n",
            "Epoch 2/2\n",
            "372/372 - 57s - loss: 0.6792 - accuracy: 0.7116 - 57s/epoch - 153ms/step\n",
            "93/93 - 2s - loss: 0.7533 - accuracy: 0.6821 - 2s/epoch - 20ms/step\n",
            "Epoch 1/2\n",
            "372/372 - 61s - loss: 0.8360 - accuracy: 0.6437 - 61s/epoch - 165ms/step\n",
            "Epoch 2/2\n",
            "372/372 - 57s - loss: 0.6776 - accuracy: 0.7141 - 57s/epoch - 152ms/step\n",
            "93/93 - 2s - loss: 0.7387 - accuracy: 0.6857 - 2s/epoch - 21ms/step\n",
            "Epoch 1/2\n",
            "372/372 - 61s - loss: 0.8255 - accuracy: 0.6444 - 61s/epoch - 163ms/step\n",
            "Epoch 2/2\n",
            "372/372 - 56s - loss: 0.6677 - accuracy: 0.7188 - 56s/epoch - 151ms/step\n",
            "93/93 - 3s - loss: 0.7790 - accuracy: 0.6690 - 3s/epoch - 33ms/step\n",
            "186/186 - 39s - loss: 0.8462 - accuracy: 0.6372 - 39s/epoch - 211ms/step\n",
            "47/47 - 1s - loss: 0.7605 - accuracy: 0.6676 - 1s/epoch - 30ms/step\n",
            "186/186 - 40s - loss: 0.8433 - accuracy: 0.6360 - 40s/epoch - 214ms/step\n",
            "47/47 - 1s - loss: 0.7806 - accuracy: 0.6654 - 1s/epoch - 29ms/step\n",
            "186/186 - 39s - loss: 0.8460 - accuracy: 0.6365 - 39s/epoch - 211ms/step\n",
            "47/47 - 1s - loss: 0.7991 - accuracy: 0.6681 - 1s/epoch - 30ms/step\n",
            "186/186 - 39s - loss: 0.8451 - accuracy: 0.6334 - 39s/epoch - 209ms/step\n",
            "47/47 - 1s - loss: 0.7706 - accuracy: 0.6582 - 1s/epoch - 29ms/step\n",
            "186/186 - 40s - loss: 0.8352 - accuracy: 0.6352 - 40s/epoch - 217ms/step\n",
            "47/47 - 1s - loss: 0.7776 - accuracy: 0.6706 - 1s/epoch - 30ms/step\n",
            "Epoch 1/2\n",
            "186/186 - 39s - loss: 0.8472 - accuracy: 0.6360 - 39s/epoch - 212ms/step\n",
            "Epoch 2/2\n",
            "186/186 - 36s - loss: 0.6921 - accuracy: 0.7081 - 36s/epoch - 192ms/step\n",
            "47/47 - 2s - loss: 0.7284 - accuracy: 0.6805 - 2s/epoch - 42ms/step\n",
            "Epoch 1/2\n",
            "186/186 - 38s - loss: 0.8426 - accuracy: 0.6363 - 38s/epoch - 205ms/step\n",
            "Epoch 2/2\n",
            "186/186 - 36s - loss: 0.6843 - accuracy: 0.7061 - 36s/epoch - 195ms/step\n",
            "47/47 - 1s - loss: 0.7260 - accuracy: 0.6789 - 1s/epoch - 30ms/step\n",
            "Epoch 1/2\n",
            "186/186 - 40s - loss: 0.8404 - accuracy: 0.6361 - 40s/epoch - 214ms/step\n",
            "Epoch 2/2\n",
            "186/186 - 37s - loss: 0.6909 - accuracy: 0.7051 - 37s/epoch - 197ms/step\n",
            "47/47 - 1s - loss: 0.7544 - accuracy: 0.6832 - 1s/epoch - 30ms/step\n",
            "Epoch 1/2\n",
            "186/186 - 39s - loss: 0.8515 - accuracy: 0.6317 - 39s/epoch - 212ms/step\n",
            "Epoch 2/2\n",
            "186/186 - 35s - loss: 0.6868 - accuracy: 0.7034 - 35s/epoch - 186ms/step\n",
            "47/47 - 2s - loss: 0.7362 - accuracy: 0.6911 - 2s/epoch - 39ms/step\n",
            "Epoch 1/2\n",
            "186/186 - 38s - loss: 0.8464 - accuracy: 0.6342 - 38s/epoch - 205ms/step\n",
            "Epoch 2/2\n",
            "186/186 - 36s - loss: 0.6787 - accuracy: 0.7155 - 36s/epoch - 193ms/step\n",
            "47/47 - 1s - loss: 0.7799 - accuracy: 0.6760 - 1s/epoch - 30ms/step\n",
            "Epoch 1/2\n",
            "233/233 - 49s - loss: 0.8298 - accuracy: 0.6418 - 49s/epoch - 210ms/step\n",
            "Epoch 2/2\n",
            "233/233 - 44s - loss: 0.6803 - accuracy: 0.7100 - 44s/epoch - 190ms/step\n",
            "Best: 0.681911 using {'batch_size': 40, 'epochs': 2}\n"
          ]
        }
      ]
    },
    {
      "cell_type": "code",
      "source": [],
      "metadata": {
        "id": "B2RJwq68REEA"
      },
      "execution_count": null,
      "outputs": []
    }
  ]
}